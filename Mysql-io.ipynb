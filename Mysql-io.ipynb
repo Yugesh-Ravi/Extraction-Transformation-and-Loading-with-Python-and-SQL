{
 "cells": [
  {
   "cell_type": "markdown",
   "metadata": {},
   "source": [
    "# Working with Python and MySQL\n"
   ]
  },
  {
   "cell_type": "markdown",
   "metadata": {},
   "source": [
    "## Creating MYSQL connector"
   ]
  },
  {
   "cell_type": "code",
   "execution_count": 3,
   "metadata": {
    "collapsed": true
   },
   "outputs": [],
   "source": [
    "import MySQLdb as mdb"
   ]
  },
  {
   "cell_type": "code",
   "execution_count": 4,
   "metadata": {
    "collapsed": true
   },
   "outputs": [],
   "source": [
    "user = 'YOURUSERNAME'\n",
    "passwd = 'YOURPASSWORD'"
   ]
  },
  {
   "cell_type": "code",
   "execution_count": 5,
   "metadata": {},
   "outputs": [],
   "source": [
    "# creating connection\n",
    "con = mdb.connect(\n",
    "                host = '127.0.0.1', user = user, passwd = passwd) #optional - db=\"schema_name\"  "
   ]
  },
  {
   "cell_type": "code",
   "execution_count": 6,
   "metadata": {
    "collapsed": true
   },
   "outputs": [],
   "source": [
    "# setting a cursor\n",
    "cursor = con.cursor()     # get the cursor"
   ]
  },
  {
   "cell_type": "markdown",
   "metadata": {},
   "source": [
    "## Executing SQL statement"
   ]
  },
  {
   "cell_type": "code",
   "execution_count": null,
   "metadata": {
    "scrolled": true
   },
   "outputs": [],
   "source": [
    "cursor.execute(\"SHOW DATABASES\")  # running SQL\n",
    "print  cursor.fetchall()"
   ]
  },
  {
   "cell_type": "markdown",
   "metadata": {},
   "source": [
    "### USE specific schema"
   ]
  },
  {
   "cell_type": "code",
   "execution_count": 8,
   "metadata": {},
   "outputs": [
    {
     "data": {
      "text/plain": [
       "0L"
      ]
     },
     "execution_count": 8,
     "metadata": {},
     "output_type": "execute_result"
    }
   ],
   "source": [
    "cursor.execute(\"USE world\")"
   ]
  },
  {
   "cell_type": "markdown",
   "metadata": {},
   "source": [
    "## Classic Query"
   ]
  },
  {
   "cell_type": "code",
   "execution_count": 9,
   "metadata": {},
   "outputs": [
    {
     "name": "stdout",
     "output_type": "stream",
     "text": [
      "('CHN', 'China', 'Asia', 'Eastern Asia', 9572900.0, -1523, 1277558000L, 71.4, 982268.0, 917719.0, 'Zhongquo', \"People'sRepublic\", 'Jiang Zemin', 1891L, 'CN')\n",
      "('IDN', 'Indonesia', 'Asia', 'Southeast Asia', 1904569.0, 1945, 212107000L, 68.0, 84982.0, 215002.0, 'Indonesia', 'Republic', 'Abdurrahman Wahid', 939L, 'ID')\n",
      "('IND', 'India', 'Asia', 'Southern and Central Asia', 3287263.0, 1947, 1013662000L, 62.5, 447114.0, 430572.0, 'Bharat/India', 'Federal Republic', 'Kocheril Raman Narayanan', 1109L, 'IN')\n",
      "('USA', 'United States', 'North America', 'North America', 9363520.0, 1776, 278357000L, 77.1, 8510700.0, 8110900.0, 'United States', 'Federal Republic', 'George W. Bush', 3813L, 'US')\n"
     ]
    }
   ],
   "source": [
    "cursor.execute(\"SELECT * FROM country WHERE population>200000000\")\n",
    "for i in range(cursor.rowcount):\n",
    "    row = cursor.fetchone()\n",
    "    print row"
   ]
  },
  {
   "cell_type": "markdown",
   "metadata": {},
   "source": [
    "## DDL - CREATE, DROP, ALTER"
   ]
  },
  {
   "cell_type": "code",
   "execution_count": 10,
   "metadata": {},
   "outputs": [
    {
     "data": {
      "text/plain": [
       "0L"
      ]
     },
     "execution_count": 10,
     "metadata": {},
     "output_type": "execute_result"
    }
   ],
   "source": [
    "cursor.execute(\"DROP SCHEMA IF EXISTS class7 ;\")\n",
    "cursor.execute(\"CREATE SCHEMA IF NOT EXISTS class7 ;\")\n",
    "cursor.execute(\"USE class7 ;\")"
   ]
  },
  {
   "cell_type": "code",
   "execution_count": 11,
   "metadata": {},
   "outputs": [
    {
     "data": {
      "text/plain": [
       "0L"
      ]
     },
     "execution_count": 11,
     "metadata": {},
     "output_type": "execute_result"
    }
   ],
   "source": [
    "cursor.execute(\"\"\"\n",
    "    CREATE TABLE IF NOT EXISTS students (\n",
    "      `ID` int(11) NOT NULL,\n",
    "      `Name` varchar(45) DEFAULT NULL,\n",
    "      `Gender` varchar(45) DEFAULT NULL,\n",
    "      PRIMARY KEY (`ID`)\n",
    "        ) ;   \"\"\")"
   ]
  },
  {
   "cell_type": "markdown",
   "metadata": {},
   "source": [
    "## DML - Insert Statement"
   ]
  },
  {
   "cell_type": "code",
   "execution_count": 12,
   "metadata": {},
   "outputs": [
    {
     "name": "stdout",
     "output_type": "stream",
     "text": [
      "((3L, 'Or', 'Male'), (5L, 'Ben', 'Male'), (7L, 'Or', 'Female'))\n"
     ]
    }
   ],
   "source": [
    "cursor.execute(\"INSERT INTO students VALUES ('3', 'Or', 'Male'), ('5', 'Ben', 'Male'), ('7', 'Or', 'Female');\")\n",
    "cursor.execute(\"SELECT * FROM students \")\n",
    "print cursor.fetchall()"
   ]
  },
  {
   "cell_type": "markdown",
   "metadata": {},
   "source": [
    "Check the table via Workbech - what the difference?\n",
    "\n",
    "\n",
    "### Commiting changes"
   ]
  },
  {
   "cell_type": "code",
   "execution_count": 13,
   "metadata": {},
   "outputs": [],
   "source": [
    "con.commit()"
   ]
  },
  {
   "cell_type": "markdown",
   "metadata": {},
   "source": [
    "### Closing the connection"
   ]
  },
  {
   "cell_type": "code",
   "execution_count": 14,
   "metadata": {
    "collapsed": true
   },
   "outputs": [],
   "source": [
    "#closing the connection\n",
    "cursor.close()\n",
    "con.close()"
   ]
  }
 ],
 "metadata": {
  "kernelspec": {
   "display_name": "Python 2",
   "language": "python",
   "name": "python2"
  },
  "language_info": {
   "codemirror_mode": {
    "name": "ipython",
    "version": 2
   },
   "file_extension": ".py",
   "mimetype": "text/x-python",
   "name": "python",
   "nbconvert_exporter": "python",
   "pygments_lexer": "ipython2",
   "version": "2.7.13"
  }
 },
 "nbformat": 4,
 "nbformat_minor": 1
}
