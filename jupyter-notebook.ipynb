{
 "cells": [
  {
   "cell_type": "markdown",
   "metadata": {},
   "source": [
    "## What is Jupyter Notebook?\n",
    "- The Jupyter Notebook is an **interactive computing environment** that enables users to author notebook documents that include: - Live code - Interactive widgets - Plots - Narrative text - Equations - Images - Video\n",
    "- Enables code and text combination for user convenient.\n",
    "### Components\n",
    "- **The notebook web application**: An interactive web application for writing and running code interactively and authoring notebook documents.\n",
    "- **Kernels**: Separate processes started by the notebook web application that runs users’ code in a given language and returns output back to the notebook web application.\n",
    "- **Notebook documents**: Self-contained documents that contain a representation of all content visible in the notebook web application, including inputs and outputs of the computations, narrative text, equations, images, and rich media representations of objects.\n",
    "### Notebook\n",
    "Notebook documents contain the only the **input and output** of the interactive session.\n",
    "When you run the notebook web application on your computer, notebook documents are just files on your local filesystem with a **```.ipynb```** extension. This format will serve us when submitting the HWs.\n",
    "These files are JSON files, which are rendered in the web browser"
   ]
  },
  {
   "cell_type": "markdown",
   "metadata": {},
   "source": [
    "# 1. Open notebook dashboard\n",
    "**cmd -> type \"jupyter notebook\"**  \n",
    "Open an existing ```.ipynb``` and create a new one  \n",
    "File browser"
   ]
  },
  {
   "cell_type": "markdown",
   "metadata": {},
   "source": [
    "# 2. Overview of the Notebook UI\n",
    "Consists of:\n",
    "- Menu (save, Insert cells, Kernel)\n",
    "- Toolbar \n",
    "- Notebook area and cells\n",
    "(It is recommended to try the interactive tour in the \"Help:User Interface Tour\")"
   ]
  },
  {
   "cell_type": "markdown",
   "metadata": {},
   "source": [
    "### Cell types:\n",
    "1. Code cell: Input and output of code that is run in the kernel\n",
    "2. Markdown cells: Narrative text\n",
    "3. Raw cells"
   ]
  },
  {
   "cell_type": "markdown",
   "metadata": {},
   "source": [
    "Learn the keyboard shortbuts which you will find very useful, such as: Shift+Enter, a, b ..."
   ]
  },
  {
   "cell_type": "markdown",
   "metadata": {},
   "source": [
    "# 3. Code cells\n",
    "- Cell menu\n",
    "- Kernel menu"
   ]
  },
  {
   "cell_type": "code",
   "execution_count": null,
   "metadata": {
    "collapsed": false
   },
   "outputs": [],
   "source": [
    "print 'Hello world'"
   ]
  },
  {
   "cell_type": "markdown",
   "metadata": {},
   "source": [
    "### Assigning variables"
   ]
  },
  {
   "cell_type": "code",
   "execution_count": null,
   "metadata": {
    "collapsed": false
   },
   "outputs": [],
   "source": [
    "x = 5 #assignment\n",
    "y = x + 2\n",
    "x==4 #condition"
   ]
  },
  {
   "cell_type": "code",
   "execution_count": null,
   "metadata": {
    "collapsed": false
   },
   "outputs": [],
   "source": [
    "x"
   ]
  },
  {
   "cell_type": "markdown",
   "metadata": {},
   "source": [
    "### importing"
   ]
  },
  {
   "cell_type": "code",
   "execution_count": null,
   "metadata": {
    "collapsed": false
   },
   "outputs": [],
   "source": [
    "import numpy as np"
   ]
  },
  {
   "cell_type": "code",
   "execution_count": null,
   "metadata": {
    "collapsed": false
   },
   "outputs": [],
   "source": [
    "print np.random.random()"
   ]
  },
  {
   "cell_type": "code",
   "execution_count": null,
   "metadata": {
    "collapsed": false
   },
   "outputs": [],
   "source": [
    "#defining a function\n",
    "def fun(v):\n",
    "    '''2nd power function'''\n",
    "    return np.power(v,2)"
   ]
  },
  {
   "cell_type": "code",
   "execution_count": null,
   "metadata": {
    "collapsed": false
   },
   "outputs": [],
   "source": [
    "for i in range(10): #for loop\n",
    "    print i,fun(i)"
   ]
  },
  {
   "cell_type": "markdown",
   "metadata": {},
   "source": [
    "# 4. Markdown cells\n",
    "- Convert a cell to markdown\n",
    "- All HTML tabs are supported!\n",
    "- Nice tutorials to experience the md language: [md_toturial1](http://commonmark.org/help/tutorial/) [md_toturial2](http://www.markdowntutorial.com/)\n",
    "- And a couple of links about Markdown: [Link to markdown reference](https://github.com/adam-p/markdown-here/wiki/Markdown-Cheatsheet) [Link to another markdown reference](https://daringfireball.net/projects/markdown/syntax)"
   ]
  },
  {
   "cell_type": "markdown",
   "metadata": {},
   "source": [
    "# This is Heading1\n",
    "## This is Heading2\n",
    "\n",
    "some gray colored text:\n",
    "> This is where we can bring qoutes and present them nicely\n",
    "\n",
    "And this is the paragraph about something very important. Even math:\n",
    "\n",
    "$$y_{sub} = \\sqrt(x_{sub})$$\n",
    "\n",
    "Or python code example:\n",
    "```\n",
    "def foo():\n",
    "    return \"foo\"\n",
    "```"
   ]
  },
  {
   "cell_type": "markdown",
   "metadata": {},
   "source": [
    "To write a free-text (Markdown) in Ipython Notebook cell, select the cell and Press<b> M </b>. If the cell is entered (text input) press <b> ESC </b> first, to exit the cell. <br> To enter the cell again press <b> Enter </b><br>\n",
    "To execute the cell, Press <b> Shift+Enter </b>"
   ]
  },
  {
   "cell_type": "markdown",
   "metadata": {},
   "source": [
    "To convert the cell back to code cell, press <b> Y"
   ]
  },
  {
   "cell_type": "markdown",
   "metadata": {},
   "source": [
    "To add new cell press **A** (above) or **B** (beneath) <br>\n",
    "To delete a cell press **DD**"
   ]
  },
  {
   "cell_type": "markdown",
   "metadata": {},
   "source": [
    "# 5. Matplotlib"
   ]
  },
  {
   "cell_type": "code",
   "execution_count": null,
   "metadata": {
    "collapsed": false
   },
   "outputs": [],
   "source": [
    "import matplotlib.pyplot as plt\n",
    "%matplotlib inline"
   ]
  },
  {
   "cell_type": "code",
   "execution_count": null,
   "metadata": {
    "collapsed": false
   },
   "outputs": [],
   "source": [
    "x = np.linspace(0, 100)\n",
    "y = np.sqrt(x)"
   ]
  },
  {
   "cell_type": "code",
   "execution_count": null,
   "metadata": {
    "collapsed": false
   },
   "outputs": [],
   "source": [
    "print x\n",
    "print y"
   ]
  },
  {
   "cell_type": "code",
   "execution_count": null,
   "metadata": {
    "collapsed": false
   },
   "outputs": [],
   "source": [
    "plt.plot(x, y)\n",
    "plt.show()"
   ]
  },
  {
   "cell_type": "markdown",
   "metadata": {},
   "source": [
    "# 6. Extra\n",
    "- Auto-completion using ```tab```\n",
    "- Function documantation using ```Shift+tab```\n",
    "- Download as .py or .ipynb\n",
    "- Restart kernel, Interrupt kernel"
   ]
  },
  {
   "cell_type": "markdown",
   "metadata": {
    "collapsed": true
   },
   "source": [
    "*based heavily on [link](http://jupyter-notebook.readthedocs.io/en/latest/examples/Notebook/What%20is%20the%20Jupyter%20Notebook.html)*  \n",
    "*[Link for downloading Anaconda](https://www.continuum.io/downloads).* **Make sure to download the 2.7 version**"
   ]
  },
  {
   "cell_type": "markdown",
   "metadata": {},
   "source": [
    "## Saving and Exiting"
   ]
  },
  {
   "cell_type": "markdown",
   "metadata": {},
   "source": [
    "Ipython Notebook has AutoSaves. In order to properly save the notebook go to **File-> Save** and then **File->Close and Halt**.   You can also export the code to regular Python file (**.py**) or even a pdf using **File-> Download as**"
   ]
  },
  {
   "cell_type": "code",
   "execution_count": null,
   "metadata": {
    "collapsed": true
   },
   "outputs": [],
   "source": []
  }
 ],
 "metadata": {
  "kernelspec": {
   "display_name": "Python 2",
   "language": "python",
   "name": "python2"
  },
  "language_info": {
   "codemirror_mode": {
    "name": "ipython",
    "version": 2
   },
   "file_extension": ".py",
   "mimetype": "text/x-python",
   "name": "python",
   "nbconvert_exporter": "python",
   "pygments_lexer": "ipython2",
   "version": "2.7.10"
  }
 },
 "nbformat": 4,
 "nbformat_minor": 0
}
